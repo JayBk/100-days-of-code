{
 "cells": [
  {
   "cell_type": "code",
   "execution_count": 1,
   "metadata": {
    "collapsed": true
   },
   "outputs": [],
   "source": [
    "import json\n",
    "import requests\n",
    "import unidecode\n",
    "import time"
   ]
  },
  {
   "cell_type": "code",
   "execution_count": 2,
   "metadata": {
    "collapsed": true
   },
   "outputs": [],
   "source": [
    "class CheckReddit(object):\n",
    "    def __init__(self, subreddit=None):\n",
    "        if subreddit is None:\n",
    "            subreddit = input('Enter the subreddit you wan\\'t to check(Exactly):')\n",
    "        credentials = {'user':'100throwawai',\n",
    "                       'passwd': '#100daysofcode',\n",
    "                       'api_type':'json'}  # YES, I MADE A THROWAWAY JUST FOR THIS PURPOSE :D\n",
    "        session = requests.Session()\n",
    "        session.headers.update({'User-Agent':'#100daysofcode :D'})\n",
    "        session.post('https://www.reddit.com/api/login', data=credentials)\n",
    "        time.sleep(1)  # JUST WAIT A SECOND WHAT'S THE RUSH!?!?!?\n",
    "\n",
    "        url = 'https://reddit.com/r/{}/.json?limit=10'.format(subreddit)\n",
    "        html = session.get(url)\n",
    "        data = json.loads(html.content.decode('utf-8'))\n",
    "        posts = [unidecode.unidecode(headlines['data']['title']) for headlines in data['data']['children']]\n",
    "        self.posts = ['{}.{}'.format(num+1, post) for num, post in enumerate(posts)]\n",
    "        for post in self.posts:\n",
    "            print(post)"
   ]
  },
  {
   "cell_type": "code",
   "execution_count": 3,
   "metadata": {
    "collapsed": false
   },
   "outputs": [
    {
     "name": "stdout",
     "output_type": "stream",
     "text": [
      "Enter the subreddit you wan't to check(Exactly):worldnews\n",
      "1.Irish leader doesn't regret calling Trump \"racist and dangerous\"\n",
      "2.Astronomers have found the source of a deep space radio wave burst for the first time\n",
      "3.Anti-surveillance clothing aims to hide wearers from facial recognition | Hyperface project involves printing patterns on to clothing or textiles that computers interpret as a face, in fightback against intrusive technology\n",
      "4.A new law in France bans spanking of children, making it the 52nd country to prohibit the practice\n",
      "5.Israeli PM Netanyahu calls for pardon of soldier convicted of manslaughter for the killing of wounded Palestinian\n",
      "6.Pakistan shocked by torture of 10-year-old maid.\n",
      "7.Dublin-based scientists have found the area of the brain linked to autism\n",
      "8.China warns Donald Trump not to 'Escalate' North Korea situation with erratic tweets\n",
      "9.French farmer faces prison term and 30,000 euro fine for helping migrants into country\n",
      "10.Yemen's children starve as war drags on. The UN says at least 1,000 children die every week from preventable diseases across Yemen.\n"
     ]
    }
   ],
   "source": [
    "red = CheckReddit()"
   ]
  },
  {
   "cell_type": "code",
   "execution_count": 4,
   "metadata": {
    "collapsed": false
   },
   "outputs": [
    {
     "name": "stdout",
     "output_type": "stream",
     "text": [
      "Enter the subreddit you wan't to check(Exactly):learnpython\n",
      "1.Ask Anything Monday - Weekly Thread\n",
      "2.Beginner Tip: Understanding and addressing error messages on a very basic level.\n",
      "3.Displaying values\n",
      "4.[Tkinter] Alert message box wont show when function is called\n",
      "5.What is this code used for?\n",
      "6.I want to make an AI that makes dance music tracks. How would I go about doing this?\n",
      "7.Latent Class Analysis in Python?\n",
      "8.Want to make my first Android app but own an Apple laptop\n",
      "9.Results of this Python statement?\n",
      "10.Index help\n",
      "11.How to download PRAW data into csv or JSON file?\n"
     ]
    }
   ],
   "source": [
    "red1 = CheckReddit()"
   ]
  },
  {
   "cell_type": "code",
   "execution_count": 5,
   "metadata": {
    "collapsed": false
   },
   "outputs": [
    {
     "name": "stdout",
     "output_type": "stream",
     "text": [
      "Enter the subreddit you wan't to check(Exactly):learnprogramming\n",
      "1.In regards to all users from my Discord server, \"Programming Discussions\", I have some explaining to do.\n",
      "2.Awesome YouTube series that teaches Linear Algebra intuition\n",
      "3.Is the Microsoft Virtual Academy a good place to learn C#?\n",
      "4.What's the best online resource to learn Javascript and Angular JS, outside of codecademy?\n",
      "5.Freshman trying to get internship. Could you critique my resume?\n",
      "6.Best place to relearn coding basics for jobs?\n",
      "7.What are some good resources for learning about careers in web development, the industry as a whole, new trends, etc.?\n",
      "8.I wrote a markdown editor for right-to-left languages to learn AngularJS and web app development.\n",
      "9.[C++] Logical error in rock, paper, scissors program where user input asking for one of the choices is sent to the first if statement (user input is equal to rock)\n",
      "10.Need R for a regression class in sept - is a 4 month R class worth taking over a project class?\n",
      "11.[JavaScript] retrieving information from an HTTP response using Ajax and jQuery\n"
     ]
    }
   ],
   "source": [
    "red2 = CheckReddit()"
   ]
  },
  {
   "cell_type": "code",
   "execution_count": 6,
   "metadata": {
    "collapsed": false
   },
   "outputs": [
    {
     "name": "stdout",
     "output_type": "stream",
     "text": [
      "Enter the subreddit you wan't to check(Exactly):cscareerquestions\n",
      "1.Big 4 Discussion - January 04, 2017\n",
      "2.[META] First Ever CSCareerQuestions Demographics Survey!\n",
      "3.What are the different end games for CS careers?\n",
      "4.Thanks for everything, r/CSCQ\n",
      "5.Terminated from Programming Consulting Job, client refuses to pay majority of hours and hasn't payed me at all.\n",
      "6.How much am I hurting my career by prioritizing personal life?\n",
      "7.How should I prepare for the next application cycle (internship for Summer 2018)?\n",
      "8.Choosing Python to do interviews\n",
      "9.Current developers, how long does it take to finish your day to day tasks? What do you do in downtime?\n",
      "10.Want to work in AI/ML related work, how to get there?\n",
      "11.Can we have a weekly discussion thread for grads-school stuff?\n",
      "12.How to guarantee I get my educations worth?\n"
     ]
    }
   ],
   "source": [
    "red3 = CheckReddit()"
   ]
  },
  {
   "cell_type": "code",
   "execution_count": null,
   "metadata": {
    "collapsed": true
   },
   "outputs": [],
   "source": [
    "Day-2-redditscr.ipynb"
   ]
  }
 ],
 "metadata": {
  "kernelspec": {
   "display_name": "Python 3",
   "language": "python",
   "name": "python3"
  },
  "language_info": {
   "codemirror_mode": {
    "name": "ipython",
    "version": 3
   },
   "file_extension": ".py",
   "mimetype": "text/x-python",
   "name": "python",
   "nbconvert_exporter": "python",
   "pygments_lexer": "ipython3",
   "version": "3.5.2"
  }
 },
 "nbformat": 4,
 "nbformat_minor": 2
}
